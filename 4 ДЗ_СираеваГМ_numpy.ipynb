{
  "nbformat": 4,
  "nbformat_minor": 0,
  "metadata": {
    "colab": {
      "provenance": []
    },
    "kernelspec": {
      "name": "python3",
      "display_name": "Python 3"
    },
    "language_info": {
      "name": "python"
    }
  },
  "cells": [
    {
      "cell_type": "code",
      "execution_count": 2,
      "metadata": {
        "id": "6XR6rJzTSjkc"
      },
      "outputs": [],
      "source": [
        "import numpy as np"
      ]
    },
    {
      "cell_type": "markdown",
      "source": [
        "Задача 1  - Выполнить операции над матрицами"
      ],
      "metadata": {
        "id": "Y45mGcPBT3bU"
      }
    },
    {
      "cell_type": "code",
      "source": [
        "A = np.matrix([[1, 2, 1],\n",
        "               [-2, 1, 1]])"
      ],
      "metadata": {
        "id": "Z_hl5xsSSsNL"
      },
      "execution_count": 3,
      "outputs": []
    },
    {
      "cell_type": "code",
      "source": [
        "B = np.matrix([[3, 1],\n",
        "                [-1, 0],\n",
        "                [2, 4]])"
      ],
      "metadata": {
        "id": "RcMf3IMHS0tu"
      },
      "execution_count": 4,
      "outputs": []
    },
    {
      "cell_type": "code",
      "source": [
        "C = np.matrix([[-2, 2],\n",
        "                [1, -1],\n",
        "                [1, 2]])"
      ],
      "metadata": {
        "id": "46RDQvsNS568"
      },
      "execution_count": 5,
      "outputs": []
    },
    {
      "cell_type": "code",
      "source": [
        "A2B = A + 2 * np.transpose(B)\n",
        "A2B"
      ],
      "metadata": {
        "colab": {
          "base_uri": "https://localhost:8080/"
        },
        "id": "Hjh7wE7CdbpS",
        "outputId": "1002d507-d207-4171-e602-29f42954d455"
      },
      "execution_count": 6,
      "outputs": [
        {
          "output_type": "execute_result",
          "data": {
            "text/plain": [
              "matrix([[7, 0, 5],\n",
              "        [0, 1, 9]])"
            ]
          },
          "metadata": {},
          "execution_count": 6
        }
      ]
    },
    {
      "cell_type": "code",
      "source": [
        "B2C = B + 2 * C\n",
        "B2C"
      ],
      "metadata": {
        "colab": {
          "base_uri": "https://localhost:8080/"
        },
        "id": "r_7OZ1_UdiKb",
        "outputId": "797b73a6-9764-41db-91fd-87d2496ceb26"
      },
      "execution_count": 7,
      "outputs": [
        {
          "output_type": "execute_result",
          "data": {
            "text/plain": [
              "matrix([[-1,  5],\n",
              "        [ 1, -2],\n",
              "        [ 4,  8]])"
            ]
          },
          "metadata": {},
          "execution_count": 7
        }
      ]
    },
    {
      "cell_type": "markdown",
      "source": [
        "Задача 2 - Создать матрицу размером 8х8 элементов,состоящую из нулей.Заполнить эту матрицу значениями,расположенными в шахматном порядке"
      ],
      "metadata": {
        "id": "9Tx3x-ADUHOR"
      }
    },
    {
      "cell_type": "code",
      "source": [
        "Z = np.zeros((8,8))\n",
        "Z"
      ],
      "metadata": {
        "id": "SxAurYS4UwAm",
        "colab": {
          "base_uri": "https://localhost:8080/"
        },
        "outputId": "30404c3f-aa8e-477e-ed75-958a49a045a3"
      },
      "execution_count": 8,
      "outputs": [
        {
          "output_type": "execute_result",
          "data": {
            "text/plain": [
              "array([[0., 0., 0., 0., 0., 0., 0., 0.],\n",
              "       [0., 0., 0., 0., 0., 0., 0., 0.],\n",
              "       [0., 0., 0., 0., 0., 0., 0., 0.],\n",
              "       [0., 0., 0., 0., 0., 0., 0., 0.],\n",
              "       [0., 0., 0., 0., 0., 0., 0., 0.],\n",
              "       [0., 0., 0., 0., 0., 0., 0., 0.],\n",
              "       [0., 0., 0., 0., 0., 0., 0., 0.],\n",
              "       [0., 0., 0., 0., 0., 0., 0., 0.]])"
            ]
          },
          "metadata": {},
          "execution_count": 8
        }
      ]
    },
    {
      "cell_type": "code",
      "source": [
        "Z[1::2,::2] = 1\n",
        "Z[::2,1::2] = 1\n",
        "print(Z)"
      ],
      "metadata": {
        "id": "NotWt2J3ipij",
        "colab": {
          "base_uri": "https://localhost:8080/"
        },
        "outputId": "854a4fb1-5ce4-48e2-cdd7-7d7ed2d527e5"
      },
      "execution_count": 9,
      "outputs": [
        {
          "output_type": "stream",
          "name": "stdout",
          "text": [
            "[[0. 1. 0. 1. 0. 1. 0. 1.]\n",
            " [1. 0. 1. 0. 1. 0. 1. 0.]\n",
            " [0. 1. 0. 1. 0. 1. 0. 1.]\n",
            " [1. 0. 1. 0. 1. 0. 1. 0.]\n",
            " [0. 1. 0. 1. 0. 1. 0. 1.]\n",
            " [1. 0. 1. 0. 1. 0. 1. 0.]\n",
            " [0. 1. 0. 1. 0. 1. 0. 1.]\n",
            " [1. 0. 1. 0. 1. 0. 1. 0.]]\n"
          ]
        }
      ]
    },
    {
      "cell_type": "markdown",
      "source": [
        "Задача 3\n",
        "\n",
        "1. Сформировать два вектора: первый длиной 15 элементов со значениями от 0 до 1,4 с шагом 0,1; второй – длиной 6 элементов со значениями от 1 до 6"
      ],
      "metadata": {
        "id": "V7studzYo1jo"
      }
    },
    {
      "cell_type": "code",
      "source": [
        "v1 = np.arange(0,1.5,0.1)\n",
        "v2 = np.arange(1,7,1)\n",
        "print(v1)\n",
        "print(v2)"
      ],
      "metadata": {
        "colab": {
          "base_uri": "https://localhost:8080/"
        },
        "id": "hAw7hxCk4TQc",
        "outputId": "ca718463-f32f-468b-b2bd-193a2bcf88b4"
      },
      "execution_count": 16,
      "outputs": [
        {
          "output_type": "stream",
          "name": "stdout",
          "text": [
            "[0.  0.1 0.2 0.3 0.4 0.5 0.6 0.7 0.8 0.9 1.  1.1 1.2 1.3 1.4]\n",
            "[1 2 3 4 5 6]\n"
          ]
        }
      ]
    },
    {
      "cell_type": "markdown",
      "source": [
        "2. Преобразовать первый вектор в матрицу 5х3, а второй – в матрицу 3х2. Выполнить перемножение этих матриц. Сами матрицы и результат их перемножения вывести на экран"
      ],
      "metadata": {
        "id": "8PJsJHMr3c0l"
      }
    },
    {
      "cell_type": "code",
      "source": [
        "m1 = v1.reshape(5,3)\n",
        "m2 = v2.reshape(3,2)\n",
        "print(m1)\n",
        "print(m2)"
      ],
      "metadata": {
        "id": "Rhup-qW8qK85",
        "colab": {
          "base_uri": "https://localhost:8080/"
        },
        "outputId": "3a608cd8-9a77-4f81-e583-d5231b52886a"
      },
      "execution_count": 17,
      "outputs": [
        {
          "output_type": "stream",
          "name": "stdout",
          "text": [
            "[[0.  0.1 0.2]\n",
            " [0.3 0.4 0.5]\n",
            " [0.6 0.7 0.8]\n",
            " [0.9 1.  1.1]\n",
            " [1.2 1.3 1.4]]\n",
            "[[1 2]\n",
            " [3 4]\n",
            " [5 6]]\n"
          ]
        }
      ]
    },
    {
      "cell_type": "code",
      "source": [
        "M_0 = np.dot(m1, m2)\n",
        "M_0"
      ],
      "metadata": {
        "colab": {
          "base_uri": "https://localhost:8080/"
        },
        "id": "12necbZB6aX-",
        "outputId": "cdbc2de2-15ad-4891-9ea7-7e19b9195782"
      },
      "execution_count": 21,
      "outputs": [
        {
          "output_type": "execute_result",
          "data": {
            "text/plain": [
              "array([[ 1.3,  1.6],\n",
              "       [ 4. ,  5.2],\n",
              "       [ 6.7,  8.8],\n",
              "       [ 9.4, 12.4],\n",
              "       [12.1, 16. ]])"
            ]
          },
          "metadata": {},
          "execution_count": 21
        }
      ]
    },
    {
      "cell_type": "markdown",
      "source": [
        "Задача 4"
      ],
      "metadata": {
        "id": "hqccyjYy7kSO"
      }
    },
    {
      "cell_type": "markdown",
      "source": [
        "\n",
        "\n",
        "1.   Сформировать вектор из целых чисел (тип элементов должен быть int32) размерностью 36 и значениями 1, 3, 5, 7,... и так далее\n",
        "\n",
        "\n",
        "\n",
        "\n",
        "\n"
      ],
      "metadata": {
        "id": "7pmQMM-07nIZ"
      }
    },
    {
      "cell_type": "code",
      "source": [
        "v3 = np.arange(1, 73, 2, dtype=np.int32)\n",
        "print(v3)"
      ],
      "metadata": {
        "colab": {
          "base_uri": "https://localhost:8080/"
        },
        "id": "UHSvbTMB6mz9",
        "outputId": "0277aade-d919-45de-f51d-5364a3b0df3a"
      },
      "execution_count": 27,
      "outputs": [
        {
          "output_type": "stream",
          "name": "stdout",
          "text": [
            "[ 1  3  5  7  9 11 13 15 17 19 21 23 25 27 29 31 33 35 37 39 41 43 45 47\n",
            " 49 51 53 55 57 59 61 63 65 67 69 71]\n"
          ]
        }
      ]
    },
    {
      "cell_type": "markdown",
      "source": [
        "2. Выделить из этого вектора все элементы со значениями кратными 3. Вывести результат на экран (исходный вектор и с кратными числами)"
      ],
      "metadata": {
        "id": "9VFO87tI7-eJ"
      }
    },
    {
      "cell_type": "code",
      "source": [
        "v4 = v3[v3 % 3 == 0]\n",
        "print(v3)\n",
        "print(v4)"
      ],
      "metadata": {
        "colab": {
          "base_uri": "https://localhost:8080/"
        },
        "id": "tt3q7BtA9Bss",
        "outputId": "228091a9-823f-4ae5-be80-579fb290d3cd"
      },
      "execution_count": 30,
      "outputs": [
        {
          "output_type": "stream",
          "name": "stdout",
          "text": [
            "[ 1  3  5  7  9 11 13 15 17 19 21 23 25 27 29 31 33 35 37 39 41 43 45 47\n",
            " 49 51 53 55 57 59 61 63 65 67 69 71]\n",
            "[ 3  9 15 21 27 33 39 45 51 57 63 69]\n"
          ]
        }
      ]
    }
  ]
}